{
 "cells": [
  {
   "cell_type": "code",
   "execution_count": 1,
   "metadata": {},
   "outputs": [
    {
     "name": "stdout",
     "output_type": "stream",
     "text": [
      "Populating the interactive namespace from numpy and matplotlib\n"
     ]
    }
   ],
   "source": [
    "%pylab inline"
   ]
  },
  {
   "cell_type": "markdown",
   "metadata": {},
   "source": [
    "## Importation des données"
   ]
  },
  {
   "cell_type": "code",
   "execution_count": 2,
   "metadata": {},
   "outputs": [],
   "source": [
    "from sklearn import datasets\n",
    "iris = datasets.load_iris()\n",
    "X = iris.data\n",
    "y = iris.target"
   ]
  },
  {
   "cell_type": "markdown",
   "metadata": {},
   "source": [
    "## Etape de centrage"
   ]
  },
  {
   "cell_type": "code",
   "execution_count": 3,
   "metadata": {},
   "outputs": [],
   "source": [
    "Xe = mean(X, axis = 0)\n",
    "n, p = shape(X)\n",
    "for i in range(n):\n",
    "    X[i, :] -= Xe"
   ]
  },
  {
   "cell_type": "code",
   "execution_count": 4,
   "metadata": {},
   "outputs": [],
   "source": [
    "A = matmul(X.T, X)\n",
    "tol = 10 ** (-10)"
   ]
  },
  {
   "cell_type": "markdown",
   "metadata": {
    "collapsed": true
   },
   "source": [
    "## Méthode de la puissance"
   ]
  },
  {
   "cell_type": "code",
   "execution_count": 5,
   "metadata": {},
   "outputs": [],
   "source": [
    "def puissance(A, tol):\n",
    "    x = rand(shape(A)[0], 1)\n",
    "    x = x / norm(x)\n",
    "    Ax = matmul(A, x)\n",
    "    err = Ax - vdot(Ax, x) * x\n",
    "    while norm(err) > tol :\n",
    "        x = Ax / norm(Ax)\n",
    "        Ax = matmul(A, x)\n",
    "        err = Ax - vdot(Ax, x) * x\n",
    "    return x, vdot(Ax, x)\n",
    "        "
   ]
  },
  {
   "cell_type": "markdown",
   "metadata": {},
   "source": [
    "## Méthode de la puissance itérée"
   ]
  },
  {
   "cell_type": "code",
   "execution_count": 6,
   "metadata": {},
   "outputs": [],
   "source": [
    "def puissanceiteree(A, tol):\n",
    "    n = len(A)\n",
    "    u, l =  puissance(A, tol)\n",
    "    vp = zeros(n)\n",
    "    vp[0] = l\n",
    "    vectp = zeros((n,n))\n",
    "    vectp[:, 0] = u.reshape(n)\n",
    "    for i in range(1, len(A)):\n",
    "        A = A - l * matmul(u, u.T)\n",
    "        u, l =  puissance(A, tol)\n",
    "        vp[i] = l\n",
    "        vectp[:, i] = u.reshape(n)\n",
    "    return vp, vectp\n"
   ]
  },
  {
   "cell_type": "code",
   "execution_count": 7,
   "metadata": {},
   "outputs": [],
   "source": [
    "vp, vectp = puissanceiteree(A, tol)"
   ]
  },
  {
   "cell_type": "markdown",
   "metadata": {},
   "source": [
    "## Projection des résultats"
   ]
  },
  {
   "cell_type": "code",
   "execution_count": 8,
   "metadata": {
    "scrolled": true
   },
   "outputs": [],
   "source": [
    "P = zeros((2, shape(X)[0]))\n",
    "for i in range(shape(X)[0]):\n",
    "    P[0, i] = vdot(vectp[:, 0],  X[i, :])\n",
    "    P[1, i] = vdot(vectp[:, 1],  X[i, :])"
   ]
  },
  {
   "cell_type": "code",
   "execution_count": 9,
   "metadata": {},
   "outputs": [
    {
     "data": {
      "text/plain": [
       "<matplotlib.collections.PathCollection at 0x7f6c4d07ae10>"
      ]
     },
     "execution_count": 9,
     "metadata": {},
     "output_type": "execute_result"
    },
    {
     "data": {
      "image/png": "[encoded data removed]",
      "text/plain": [
       "<Figure size 432x288 with 1 Axes>"
      ]
     },
     "metadata": {
      "needs_background": "light"
     },
     "output_type": "display_data"
    }
   ],
   "source": [
    "scatter(P[0, :], P[1, :], c = y)"
   ]
  },
  {
   "cell_type": "markdown",
   "metadata": {
    "collapsed": true
   },
   "source": [
    "## Méthode de Jacobi"
   ]
  },
  {
   "cell_type": "code",
   "execution_count": 10,
   "metadata": {},
   "outputs": [],
   "source": [
    "def annul(i, j, A):\n",
    "    n = len (A)\n",
    "    G = eye(n)\n",
    "    tau = (A[i, i] - A[j, j])/(2 * A[i, j])\n",
    "    t = sign(tau)/(abs(tau) + sqrt(1 + tau ** 2))\n",
    "    c = 1 / sqrt(1 + t ** 2)\n",
    "    s = c * t\n",
    "    G[i, i] = c\n",
    "    G[j, j] = c\n",
    "    G[i, j] = -s\n",
    "    G[j, i] = s\n",
    "    return G"
   ]
  },
  {
   "cell_type": "code",
   "execution_count": 11,
   "metadata": {},
   "outputs": [],
   "source": [
    "def jacobi(A, tol):\n",
    "    n = len(A)\n",
    "    J = eye(n)\n",
    "    while norm(A - diag(diag(A))) > tol:\n",
    "        i, j = unravel_index(argmax(abs(A - diag(diag(A)))), A.shape)\n",
    "        G = annul(i, j, A)\n",
    "        A = matmul(matmul(G.T, A), G)\n",
    "        J = matmul(J, G)\n",
    "    return diag(A), J"
   ]
  },
  {
   "cell_type": "code",
   "execution_count": 12,
   "metadata": {},
   "outputs": [
    {
     "data": {
      "text/plain": [
       "(array([ 11.65321551,  36.15794144, 630.0080142 ,   3.55142885]),\n",
       " array([[ 0.58202985,  0.65658877,  0.36138659,  0.31548719],\n",
       "        [-0.59791083,  0.73016143, -0.08452251, -0.3197231 ],\n",
       "        [-0.07623608, -0.17337266,  0.85667061, -0.47983899],\n",
       "        [-0.54583143, -0.07548102,  0.3582892 ,  0.75365743]]))"
      ]
     },
     "execution_count": 12,
     "metadata": {},
     "output_type": "execute_result"
    }
   ],
   "source": [
    "jacobi(A, tol)"
   ]
  },
  {
   "cell_type": "markdown",
   "metadata": {},
   "source": [
    "## Comparaison des méthodes"
   ]
  },
  {
   "cell_type": "code",
   "execution_count": 13,
   "metadata": {},
   "outputs": [],
   "source": [
    "ntot = 7\n",
    "n = [2 ** i for i in range(1, ntot + 1)]\n",
    "mpi = []\n",
    "errpi = []\n",
    "errj = []\n",
    "for i in range(ntot):\n",
    "    A = rand(n[i], n[i])\n",
    "    A = matmul(A.T, A)\n",
    "    a = sort(eig(A)[0])\n",
    "    b = puissanceiteree(A, tol)[0]\n",
    "    errpi.append(norm(sort(b) - a))\n",
    "    c = jacobi(A, tol)[0]\n",
    "    errj.append(norm(sort(c) - a))"
   ]
  },
  {
   "cell_type": "code",
   "execution_count": 19,
   "metadata": {},
   "outputs": [
    {
     "data": {
      "image/png": "[encoded data removed]",
      "text/plain": [
       "<Figure size 432x288 with 1 Axes>"
      ]
     },
     "metadata": {
      "needs_background": "light"
     },
     "output_type": "display_data"
    }
   ],
   "source": [
    "p1=loglog(n, errj, 'b', label = \"Erreur Jacobi\")\n",
    "p2=loglog(n, errpi, 'r', label = \"Erreur Puissance\")\n",
    "title(\"Erreurs de la méthode de Jacobi et de la puissance\")  \n",
    "legend(loc = 'upper left')\n",
    "show()"
   ]
  },
  {
   "cell_type": "code",
   "execution_count": null,
   "metadata": {},
   "outputs": [],
   "source": []
  }
 ],
 "metadata": {
  "kernelspec": {
   "display_name": "Python 3",
   "language": "python",
   "name": "python3"
  },
  "language_info": {
   "codemirror_mode": {
    "name": "ipython",
    "version": 3
   },
   "file_extension": ".py",
   "mimetype": "text/x-python",
   "name": "python",
   "nbconvert_exporter": "python",
   "pygments_lexer": "ipython3",
   "version": "3.7.4"
  }
 },
 "nbformat": 4,
 "nbformat_minor": 2
}
