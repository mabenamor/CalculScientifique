{
 "cells": [
  {
   "cell_type": "code",
   "execution_count": 1,
   "metadata": {
    "collapsed": false
   },
   "outputs": [
    {
     "name": "stdout",
     "output_type": "stream",
     "text": [
      "Populating the interactive namespace from numpy and matplotlib\n"
     ]
    }
   ],
   "source": [
    "%pylab inline \n",
    "#Pour charger la bibliothèque de \n",
    "#CalculScientifique Numpy et celle de traçage Matplotlib"
   ]
  },
  {
   "cell_type": "markdown",
   "metadata": {},
   "source": [
    "L'étude se fera sur une période de $365$ jours et on aura une population de $12$ millions d'habitants"
   ]
  },
  {
   "cell_type": "code",
   "execution_count": 2,
   "metadata": {
    "collapsed": true
   },
   "outputs": [],
   "source": [
    "T=365\n",
    "N=12000000"
   ]
  },
  {
   "cell_type": "markdown",
   "metadata": {},
   "source": [
    "On part du jours où la tunisie comptait $18$ cas confirmés. Ainsi I0 est le nombre initial d'individus infectés, S0 le nombre d'individus suseptibles (pas encore malades) et R0 le nombre de peronne rétablis (malades et rétablis par la suite) ici c'est zéro dans notre cas."
   ]
  },
  {
   "cell_type": "code",
   "execution_count": 3,
   "metadata": {
    "collapsed": true
   },
   "outputs": [],
   "source": [
    "S0=(N-18)/N\n",
    "I0=18/N\n",
    "R0=0"
   ]
  },
  {
   "cell_type": "markdown",
   "metadata": {},
   "source": [
    "On fait l'hypothèse dans un premier temps que la maladie n'est pas létale. Le système se let sous cette forme.\n",
    "\n",
    "$$\\left\\{\n",
    "\\begin{array}{r c l}\n",
    "S'(t) &=& -\\beta S(t) I(t)\\\\\n",
    "I'(t) &=& \\beta S(t) I(t) - \\alpha I(t)\\\\\n",
    "R'(t) &=& \\alpha I(t)\n",
    "\\end{array} \\right. $$\n"
   ]
  },
  {
   "cell_type": "markdown",
   "metadata": {},
   "source": [
    "Nous utiliserons les données récoltées pour trouver le paramètre $\\beta$. Pour $\\alpha$ on fera l'hypothèse grossière que c'est égal à $\\frac{1}{14}$ tenant comte du temps de guérison qui est de 14 jours."
   ]
  },
  {
   "cell_type": "code",
   "execution_count": 4,
   "metadata": {
    "collapsed": true
   },
   "outputs": [],
   "source": [
    "import csv #Pour charger la bibliothèque csv \n",
    "#qui manipule les fichiers de données"
   ]
  },
  {
   "cell_type": "code",
   "execution_count": 5,
   "metadata": {
    "collapsed": true
   },
   "outputs": [],
   "source": [
    "results = []\n",
    "with open(\"Tunisia.csv\") as csvfile:\n",
    "    reader = csv.reader(csvfile, quoting=csv.QUOTE_NONNUMERIC) # change contents to floats\n",
    "    for row in reader: # each row is a list\n",
    "        results.append(row)"
   ]
  },
  {
   "cell_type": "code",
   "execution_count": 6,
   "metadata": {
    "collapsed": true
   },
   "outputs": [],
   "source": [
    "A=asarray(results)\n",
    "n=shape(A)[1]\n",
    "t=linspace(0,len(A[0,10:]),len(A[0,10:]))\n",
    "b=polyfit(t,A[0,10:],1)"
   ]
  },
  {
   "cell_type": "code",
   "execution_count": 7,
   "metadata": {
    "collapsed": true
   },
   "outputs": [],
   "source": [
    "B=poly1d(b)"
   ]
  },
  {
   "cell_type": "code",
   "execution_count": 8,
   "metadata": {
    "collapsed": false
   },
   "outputs": [
    {
     "data": {
      "text/plain": [
       "[<matplotlib.lines.Line2D at 0x184b498c630>,\n",
       " <matplotlib.lines.Line2D at 0x184b498c7f0>]"
      ]
     },
     "execution_count": 8,
     "metadata": {},
     "output_type": "execute_result"
    },
    {
     "data": {
      "image/png": "[encoded data removed]",
      "text/plain": [
       "<matplotlib.figure.Figure at 0x184b47d79e8>"
      ]
     },
     "metadata": {},
     "output_type": "display_data"
    }
   ],
   "source": [
    "plot(t,B(t),'b',t,A[0,10:],'r')"
   ]
  },
  {
   "cell_type": "code",
   "execution_count": 9,
   "metadata": {
    "collapsed": false
   },
   "outputs": [
    {
     "data": {
      "text/plain": [
       "0.35967132139998614"
      ]
     },
     "execution_count": 9,
     "metadata": {},
     "output_type": "execute_result"
    }
   ],
   "source": [
    "beta=(b[0]/N)/(S0*I0)\n",
    "beta"
   ]
  },
  {
   "cell_type": "markdown",
   "metadata": {},
   "source": [
    "On utilise ici la méthode d'Euler pour la résolution"
   ]
  },
  {
   "cell_type": "code",
   "execution_count": 10,
   "metadata": {
    "collapsed": false
   },
   "outputs": [],
   "source": [
    "S=zeros(T)\n",
    "R=zeros(T)\n",
    "I=zeros(T)\n",
    "S[0]=S0\n",
    "R[0]=R0\n",
    "I[0]=I0\n",
    "for i in range (T-1):\n",
    "    S[i+1]=S[i]-beta*S[i]*I[i]\n",
    "    I[i+1]=I[i]+beta*S[i]*I[i]-(1/14)*I[i]\n",
    "    R[i+1]=R[i]+1/(14)*I[i]"
   ]
  },
  {
   "cell_type": "code",
   "execution_count": 11,
   "metadata": {
    "collapsed": false
   },
   "outputs": [
    {
     "data": {
      "image/png": "[encoded data removed]",
      "text/plain": [
       "<matplotlib.figure.Figure at 0x184b4a04d30>"
      ]
     },
     "metadata": {},
     "output_type": "display_data"
    }
   ],
   "source": [
    "t=linspace(0,T,T)\n",
    "plot(t,S,label = 'Suseptibles')\n",
    "plot(t,I,label='Infectés')\n",
    "plot( t,R,label='Rétablis')\n",
    "legend() \n",
    "show()"
   ]
  },
  {
   "cell_type": "code",
   "execution_count": 12,
   "metadata": {
    "collapsed": false
   },
   "outputs": [
    {
     "name": "stdout",
     "output_type": "stream",
     "text": [
      "nombre estimé des infectés au pic de la pandémie 6008107.37493\n"
     ]
    }
   ],
   "source": [
    "print(\"nombre estimé des infectés au pic de la pandémie\", max(I)*N)"
   ]
  },
  {
   "cell_type": "code",
   "execution_count": 13,
   "metadata": {
    "collapsed": false
   },
   "outputs": [
    {
     "data": {
      "text/plain": [
       "(array([58], dtype=int64),)"
      ]
     },
     "execution_count": 13,
     "metadata": {},
     "output_type": "execute_result"
    }
   ],
   "source": [
    "where(max(I)==I)"
   ]
  }
 ],
 "metadata": {
  "kernelspec": {
   "display_name": "Python 3",
   "language": "python",
   "name": "python3"
  },
  "language_info": {
   "codemirror_mode": {
    "name": "ipython",
    "version": 3
   },
   "file_extension": ".py",
   "mimetype": "text/x-python",
   "name": "python",
   "nbconvert_exporter": "python",
   "pygments_lexer": "ipython3",
   "version": "3.6.0"
  }
 },
 "nbformat": 4,
 "nbformat_minor": 2
}
