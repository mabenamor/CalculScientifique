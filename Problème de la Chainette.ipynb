{
 "cells": [
  {
   "cell_type": "code",
   "execution_count": 1,
   "metadata": {},
   "outputs": [
    {
     "name": "stdout",
     "output_type": "stream",
     "text": [
      "Populating the interactive namespace from numpy and matplotlib\n"
     ]
    }
   ],
   "source": [
    "%pylab inline"
   ]
  },
  {
   "cell_type": "markdown",
   "metadata": {},
   "source": [
    "# Problème de la chainette #"
   ]
  },
  {
   "cell_type": "markdown",
   "metadata": {},
   "source": [
    "## Données du problème ##"
   ]
  },
  {
   "cell_type": "code",
   "execution_count": 2,
   "metadata": {
    "collapsed": true
   },
   "outputs": [],
   "source": [
    "L = 3\n",
    "L1 = 3\n",
    "L2 = 4\n",
    "lmin = sqrt(L ** 2 + (L2 - L1) ** 2)\n",
    "l = lmin + 1\n",
    "g = 10\n",
    "rho = 5\n",
    "N = 1000"
   ]
  },
  {
   "cell_type": "markdown",
   "metadata": {},
   "source": [
    "##  Résolution par méthode du Tir ##"
   ]
  },
  {
   "cell_type": "code",
   "execution_count": 3,
   "metadata": {
    "collapsed": true
   },
   "outputs": [],
   "source": [
    "def f(u, beta):\n",
    "    return array([u[1], beta * sqrt(1 + u[1] ** 2)])"
   ]
  },
  {
   "cell_type": "code",
   "execution_count": 4,
   "metadata": {},
   "outputs": [],
   "source": [
    "def euler(yp0, N, y0, beta):\n",
    "    h = L/N\n",
    "    sol = zeros((2, N + 1))\n",
    "    sol[0, 0] = y0\n",
    "    sol[1, 0] = yp0\n",
    "    for i in range(N):\n",
    "        sol[:, i + 1] = sol[:, i]+ h * f(sol[:, i], beta)\n",
    "    return sol"
   ]
  },
  {
   "cell_type": "code",
   "execution_count": 5,
   "metadata": {},
   "outputs": [
    {
     "data": {
      "image/png": "[encoded data removed]",
      "text/plain": [
       "<matplotlib.figure.Figure at 0x89d4748>"
      ]
     },
     "metadata": {},
     "output_type": "display_data"
    }
   ],
   "source": [
    "xx = linspace(0, L, N + 1)\n",
    "\n",
    "yp0 = 0\n",
    "y1 = euler(yp0, N, L1, 0.2)[0, :]\n",
    "\n",
    "subplots_adjust(wspace=0.5, hspace=0.5)\n",
    "ax1 = subplot(212)\n",
    "ax1.plot(xx, y1)\n",
    "ax1.set_title('Forme du cable pour yp0 = 0')\n",
    "\n",
    "yp0 = 0.5\n",
    "y2 = euler(yp0, N, L1, 0.2)[0, :]\n",
    "ax2 = subplot(222)\n",
    "ax2.plot(xx, y2)\n",
    "ax2.set_title('Forme du cable pour yp0 = 0.5')\n",
    "\n",
    "yp0 = -0.5\n",
    "y3 = euler(yp0, N, L1, 0.2)[0, :]\n",
    "ax3 = subplot(221)\n",
    "ax3.plot(xx, y3)\n",
    "ax3.set_title('Forme du cable pour yp0 = -0.5')\n",
    "\n",
    "show()"
   ]
  },
  {
   "cell_type": "code",
   "execution_count": 6,
   "metadata": {
    "collapsed": true
   },
   "outputs": [],
   "source": [
    "def dichotomie(s1, s2, N, L1, beta, L2, tol = 10 ** (-6)):\n",
    "    s3 = (s1 + s2) / 2\n",
    "    y1 = euler(s1, N, L1, beta)[0, :]\n",
    "    y2 = euler(s2, N, L1, beta)[0, :]\n",
    "    y3 = euler(s3, N, L1, beta)[0, :]\n",
    "    while abs(s2 - s1) > tol:\n",
    "        if ((y1[-1] - L2) * (y3[-1] - L2) > 0):\n",
    "            s1 = s3\n",
    "            s3 = (s1 + s2) / 2\n",
    "            y1 = y3\n",
    "            y3 = euler(s3, N, L1, beta)[0, :]\n",
    "        else:\n",
    "            s2 = s3\n",
    "            s3 = (s1 + s2) / 2\n",
    "            y2 = y3\n",
    "            y3 = euler(s3, N, L1, beta)[0, :]\n",
    "    return s3"
   ]
  },
  {
   "cell_type": "code",
   "execution_count": 7,
   "metadata": {},
   "outputs": [
    {
     "data": {
      "text/plain": [
       "0.023074626922607422"
      ]
     },
     "execution_count": 7,
     "metadata": {},
     "output_type": "execute_result"
    }
   ],
   "source": [
    "dichotomie(-0.5, 0.5, N, L1, 0.2, L2, tol = 10 ** (-6))"
   ]
  },
  {
   "cell_type": "code",
   "execution_count": 8,
   "metadata": {},
   "outputs": [
    {
     "data": {
      "text/plain": [
       "[<matplotlib.lines.Line2D at 0x91a4a58>]"
      ]
     },
     "execution_count": 8,
     "metadata": {},
     "output_type": "execute_result"
    },
    {
     "data": {
      "image/png": "[encoded data removed]",
      "text/plain": [
       "<matplotlib.figure.Figure at 0x8b92400>"
      ]
     },
     "metadata": {},
     "output_type": "display_data"
    }
   ],
   "source": [
    "xx = linspace(0, L, N + 1)\n",
    "\n",
    "yp0 = dichotomie(-0.5, 0.5, N, L1, 0.2, L2, tol = 10 ** (-6))\n",
    "y1 = euler(yp0, N, L1, 0.2)[0, :]\n",
    "\n",
    "plot(xx, y1)"
   ]
  },
  {
   "cell_type": "markdown",
   "metadata": {},
   "source": [
    "## Contrôle avec la longueur du fil"
   ]
  },
  {
   "cell_type": "code",
   "execution_count": 9,
   "metadata": {
    "collapsed": true
   },
   "outputs": [],
   "source": [
    "def rectangle(yp, N, L):\n",
    "    return L/N * sum(sqrt(1 + yp[0:N] ** 2))"
   ]
  },
  {
   "cell_type": "code",
   "execution_count": 10,
   "metadata": {},
   "outputs": [
    {
     "data": {
      "text/plain": [
       "11.506813351083668"
      ]
     },
     "execution_count": 10,
     "metadata": {},
     "output_type": "execute_result"
    }
   ],
   "source": [
    "beta = 1\n",
    "yp0 = dichotomie(-0.5, 0.5, N, L1, beta, L2, tol = 10 ** (-6))\n",
    "yp1 = euler(yp0, N, L1, beta)[1, :]\n",
    "rectangle(yp1, N, L) - l"
   ]
  },
  {
   "cell_type": "code",
   "execution_count": 11,
   "metadata": {
    "collapsed": true
   },
   "outputs": [],
   "source": [
    "def dichotomiebeta(beta1, beta2, N, L, L1, s1, s2, L2, l, tol = 10 **(-6)):\n",
    "    beta3 = (beta1 + beta2) / 2\n",
    "    yp01 = dichotomie(s1, s2, N, L1, beta1, L2, tol = 10 ** (-6))\n",
    "    yp02 = dichotomie(s1, s2, N, L1, beta2, L2, tol = 10 ** (-6))\n",
    "    yp03 = dichotomie(s1, s2, N, L1, beta3, L2, tol = 10 ** (-6))\n",
    "    yp1 = euler(yp01, N, L1, beta1)[1, :]\n",
    "    yp2 = euler(yp02, N, L1, beta2)[1, :]\n",
    "    yp3 = euler(yp03, N, L1, beta3)[1, :]\n",
    "    d1 = rectangle(yp1, N, L) - l\n",
    "    d2 = rectangle(yp2, N, L) - l\n",
    "    d3 = rectangle(yp3, N, L) - l\n",
    "    while abs(beta1 - beta2) > tol :\n",
    "        if d3 * d1 > 0:\n",
    "            beta1 = beta3\n",
    "            yp01 = yp03\n",
    "            yp1 = yp3\n",
    "            d1 = d3\n",
    "            beta3 = (beta1 + beta2) / 2\n",
    "            yp03 = dichotomie(s1, s2, N, L1, beta3, L2, tol = 10 ** (-6))\n",
    "            yp3 = euler(yp03, N, L1, beta3)[1, :]\n",
    "            d3 = rectangle(yp3, N, L) - l\n",
    "        else:\n",
    "            beta2 = beta3\n",
    "            yp02 = yp03\n",
    "            yp2 = yp3\n",
    "            d2 = d3\n",
    "            beta3 = (beta1 + beta2) / 2\n",
    "            yp03 = dichotomie(s1, s2, N, L1, beta3, L2, tol = 10 ** (-6))\n",
    "            yp3 = euler(yp03, N, L1, beta3)[1, :]\n",
    "            d3 = rectangle(yp3, N, L) - l\n",
    "    return beta3"
   ]
  },
  {
   "cell_type": "code",
   "execution_count": 12,
   "metadata": {},
   "outputs": [],
   "source": [
    "beta = dichotomiebeta(0.2, 1, N, L, L1, -1.5, 1.5, L2, l, tol = 10 **(-6))\n",
    "s = dichotomie(-1.5, 1.5, N, L1, beta, L2, tol = 10 ** (-6))"
   ]
  },
  {
   "cell_type": "code",
   "execution_count": 13,
   "metadata": {},
   "outputs": [
    {
     "data": {
      "text/plain": [
       "4.7563024097030393e-07"
      ]
     },
     "execution_count": 13,
     "metadata": {},
     "output_type": "execute_result"
    },
    {
     "data": {
      "image/png": "[encoded data removed]",
      "text/plain": [
       "<matplotlib.figure.Figure at 0x914bc50>"
      ]
     },
     "metadata": {},
     "output_type": "display_data"
    }
   ],
   "source": [
    "y1 = euler(s, N, L1, beta)\n",
    "plot(xx, y1[0, :])\n",
    "rectangle(y1[1, :], N, L) - l"
   ]
  }
 ],
 "metadata": {
  "kernelspec": {
   "display_name": "Python 3",
   "language": "python",
   "name": "python3"
  },
  "language_info": {
   "codemirror_mode": {
    "name": "ipython",
    "version": 3
   },
   "file_extension": ".py",
   "mimetype": "text/x-python",
   "name": "python",
   "nbconvert_exporter": "python",
   "pygments_lexer": "ipython3",
   "version": "3.8.6"
  }
 },
 "nbformat": 4,
 "nbformat_minor": 2
}
