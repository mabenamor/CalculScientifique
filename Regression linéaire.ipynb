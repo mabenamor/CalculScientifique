{
 "cells": [
  {
   "cell_type": "code",
   "execution_count": 1,
   "metadata": {},
   "outputs": [
    {
     "name": "stdout",
     "output_type": "stream",
     "text": [
      "Populating the interactive namespace from numpy and matplotlib\n"
     ]
    }
   ],
   "source": [
    "%pylab inline"
   ]
  },
  {
   "cell_type": "markdown",
   "metadata": {},
   "source": [
    "## Importation des données"
   ]
  },
  {
   "cell_type": "code",
   "execution_count": 2,
   "metadata": {},
   "outputs": [],
   "source": [
    "from sklearn import datasets\n",
    "diabetes = datasets.load_diabetes()\n",
    "X = diabetes.data\n",
    "y = diabetes.target"
   ]
  },
  {
   "cell_type": "markdown",
   "metadata": {},
   "source": [
    "On utilise ici la base de donnée du diabète fournie par Scikitlearn. $y$ est le taux du diabète chez les $420$ individues et $X$ est constitué de $10$ colonnes qui représentent l'âge, le sexe ...."
   ]
  },
  {
   "cell_type": "markdown",
   "metadata": {},
   "source": [
    "## Problème de regression ##"
   ]
  },
  {
   "cell_type": "markdown",
   "metadata": {},
   "source": [
    "L'idée est de relier de manière linéaire ce $y$ à $X$.\n",
    "\n",
    "Ici on suppose que $X\\in \\mathcal{M}_{n, m}(\\mathbb{R})$. Du coup on cherche $a_0, \\dots, a_m\\ \\in \\mathbb{R}^m$ telle que $$ \\left\\|\\sum_{i=0}^m a_i X_i - y \\right\\|^2 $$ soit minimale avec $X_i$ sont les colonnes de $X$ et $X_0$ est une colonne constituée de $1$.\n",
    "\n",
    "### Première étape ###\n",
    "On ajoute à $X$ une colonne constituée de $1$ et on continuera à appeler la nouvelle matrice $X$.\n",
    "\n",
    "On suppose que $\\ker(X) = \\{ 0 \\}$. Ceci signifie que les colonnes (variables explicatives) sont linéairement indépendantes. On montre rapidement le résultat suivant:\n",
    "\n",
    "#### Lemme #### \n",
    "Soit $X\\in \\mathcal{M}_{n, m+1}(\\mathbb{R})$. On a  $\\ker(X) = \\{ 0 \\}$ si et seulement si ${}^t X X$ est inversible.\n",
    "\n",
    "On récupère ainsi une matrice ${}^t X X\\in \\mathcal{M}_{m+1, m+1}(\\mathbb{R})$ qui est symétrique définie positive.\n",
    "\n",
    "### Deuxième étape ###\n",
    "\n",
    "Si on pose $\\beta$ le vecteur de composantes $a_0, \\dots, a_m $. Notre problème revient à trouver $\\beta^*$ telle que $$ J(\\beta) = \\left\\|X \\beta - y \\right\\|^2 $$ \n",
    "\n",
    "En remarquant que $J$ est strictement convexe et coercice, $\\beta^*$ sera donc un point critique de $\\nabla J$. C'est à dire, $\\beta$ est la solution du système linéaire $$ {}^t X X \\beta = {}^t X y $$.\n",
    "\n",
    "On dispose d'une multitude de manière de résoudre ce système"
   ]
  },
  {
   "cell_type": "markdown",
   "metadata": {},
   "source": [
    "## Résolution par méthode du gradient ##"
   ]
  },
  {
   "cell_type": "code",
   "execution_count": 3,
   "metadata": {},
   "outputs": [],
   "source": [
    "n, m = shape(X)"
   ]
  },
  {
   "cell_type": "code",
   "execution_count": 4,
   "metadata": {},
   "outputs": [],
   "source": [
    "e = ones((n, 1))\n",
    "X = concatenate((e, X), axis = 1)"
   ]
  },
  {
   "cell_type": "code",
   "execution_count": 5,
   "metadata": {},
   "outputs": [],
   "source": [
    "A = matmul(X.T, X)\n",
    "b = matmul(X.T, y)"
   ]
  },
  {
   "cell_type": "code",
   "execution_count": 6,
   "metadata": {},
   "outputs": [],
   "source": [
    "tol = 10 ** (-10)"
   ]
  },
  {
   "cell_type": "code",
   "execution_count": 7,
   "metadata": {},
   "outputs": [],
   "source": [
    "def gradopti(A, b, tol):\n",
    "    n = shape(A)[0]\n",
    "    x = rand(n)\n",
    "    res = matmul(A, x) - b\n",
    "    nres = norm(res)\n",
    "    niter = 0\n",
    "    while (nres > tol):\n",
    "        r = nres ** 2 / vdot(matmul(A, res), res)\n",
    "        x = x - r * res\n",
    "        res = matmul(A, x) - b\n",
    "        nres = norm(res)\n",
    "        niter += 1\n",
    "    return x, niter"
   ]
  },
  {
   "cell_type": "code",
   "execution_count": 8,
   "metadata": {},
   "outputs": [],
   "source": [
    "seed(0)\n",
    "tol = [10 ** (-i) for i in range(12)]"
   ]
  },
  {
   "cell_type": "code",
   "execution_count": 9,
   "metadata": {},
   "outputs": [],
   "source": [
    "Niter = []\n",
    "for t in tol:\n",
    "    beta, ni = gradopti(A, b, t)\n",
    "    Niter.append(ni)"
   ]
  },
  {
   "cell_type": "code",
   "execution_count": 10,
   "metadata": {},
   "outputs": [
    {
     "data": {
      "text/plain": [
       "[<matplotlib.lines.Line2D at 0x157159ce400>]"
      ]
     },
     "execution_count": 10,
     "metadata": {},
     "output_type": "execute_result"
    },
    {
     "data": {
      "image/png": "[encoded data removed]",
      "text/plain": [
       "<Figure size 432x288 with 1 Axes>"
      ]
     },
     "metadata": {
      "needs_background": "light"
     },
     "output_type": "display_data"
    }
   ],
   "source": [
    "loglog(tol, Niter)"
   ]
  },
  {
   "cell_type": "code",
   "execution_count": 11,
   "metadata": {},
   "outputs": [
    {
     "data": {
      "text/plain": [
       "array([-0.16260653,  7.69297549])"
      ]
     },
     "execution_count": 11,
     "metadata": {},
     "output_type": "execute_result"
    }
   ],
   "source": [
    "polyfit(log(tol), log(Niter), 1)"
   ]
  },
  {
   "cell_type": "markdown",
   "metadata": {},
   "source": [
    "On calcule l'erreur relative:"
   ]
  },
  {
   "cell_type": "code",
   "execution_count": 12,
   "metadata": {},
   "outputs": [
    {
     "data": {
      "text/plain": [
       "0.3136198309624024"
      ]
     },
     "execution_count": 12,
     "metadata": {},
     "output_type": "execute_result"
    }
   ],
   "source": [
    "norm(y - matmul(X, beta)) / norm(y)"
   ]
  },
  {
   "cell_type": "markdown",
   "metadata": {},
   "source": [
    "On cherche le nombre de conditionnement de $A$ auquel dépendra le nombre d'itérations nécessaires"
   ]
  },
  {
   "cell_type": "code",
   "execution_count": 13,
   "metadata": {},
   "outputs": [
    {
     "data": {
      "text/plain": [
       "733.3431422140842"
      ]
     },
     "execution_count": 13,
     "metadata": {},
     "output_type": "execute_result"
    }
   ],
   "source": [
    "K = eig(A)[0][0] / eig(A)[0][-1]\n",
    "K"
   ]
  },
  {
   "cell_type": "markdown",
   "metadata": {},
   "source": [
    "Le nombre de conditionnement est trop grand et le taux de convergence est proche de $1$. Algorithme lent!"
   ]
  },
  {
   "cell_type": "code",
   "execution_count": 14,
   "metadata": {},
   "outputs": [
    {
     "data": {
      "text/plain": [
       "0.9972764775960596"
      ]
     },
     "execution_count": 14,
     "metadata": {},
     "output_type": "execute_result"
    }
   ],
   "source": [
    "(K - 1) / (K + 1)"
   ]
  },
  {
   "cell_type": "markdown",
   "metadata": {},
   "source": [
    "## Préconditionnementt ##"
   ]
  },
  {
   "cell_type": "code",
   "execution_count": 15,
   "metadata": {},
   "outputs": [],
   "source": [
    "D = diag( 1 / sqrt(diag(A)))"
   ]
  },
  {
   "cell_type": "code",
   "execution_count": 16,
   "metadata": {},
   "outputs": [],
   "source": [
    "Ap = matmul(D, matmul(A, D))\n",
    "bp = matmul(D, b)"
   ]
  },
  {
   "cell_type": "markdown",
   "metadata": {},
   "source": [
    "On recalcule le ombre de conditionnement"
   ]
  },
  {
   "cell_type": "code",
   "execution_count": 17,
   "metadata": {},
   "outputs": [
    {
     "data": {
      "text/plain": [
       "6.676764408450402"
      ]
     },
     "execution_count": 17,
     "metadata": {},
     "output_type": "execute_result"
    }
   ],
   "source": [
    "Kp = eig(Ap)[0][0] / eig(Ap)[0][-1]\n",
    "Kp"
   ]
  },
  {
   "cell_type": "markdown",
   "metadata": {},
   "source": [
    "valeur acceptable"
   ]
  },
  {
   "cell_type": "code",
   "execution_count": 18,
   "metadata": {},
   "outputs": [
    {
     "data": {
      "text/plain": [
       "0.7394735732936591"
      ]
     },
     "execution_count": 18,
     "metadata": {},
     "output_type": "execute_result"
    }
   ],
   "source": [
    "(Kp - 1) / (Kp + 1)"
   ]
  },
  {
   "cell_type": "code",
   "execution_count": 19,
   "metadata": {},
   "outputs": [],
   "source": [
    "seed(0)\n",
    "tol = [10 ** (-i) for i in range(12)]"
   ]
  },
  {
   "cell_type": "code",
   "execution_count": 20,
   "metadata": {},
   "outputs": [],
   "source": [
    "Niterp = []\n",
    "for t in tol:\n",
    "    beta, ni = gradopti(Ap, bp, t)\n",
    "    Niterp.append(ni)"
   ]
  },
  {
   "cell_type": "code",
   "execution_count": 21,
   "metadata": {},
   "outputs": [
    {
     "data": {
      "text/plain": [
       "[<matplotlib.lines.Line2D at 0x15716badb50>,\n",
       " <matplotlib.lines.Line2D at 0x15716badc10>]"
      ]
     },
     "execution_count": 21,
     "metadata": {},
     "output_type": "execute_result"
    },
    {
     "data": {
      "image/png": "[encoded data removed]",
      "text/plain": [
       "<Figure size 432x288 with 1 Axes>"
      ]
     },
     "metadata": {
      "needs_background": "light"
     },
     "output_type": "display_data"
    }
   ],
   "source": [
    "loglog(tol, Niter ,'rx', tol, Niterp, 'ob')"
   ]
  },
  {
   "cell_type": "code",
   "execution_count": null,
   "metadata": {},
   "outputs": [],
   "source": []
  }
 ],
 "metadata": {
  "kernelspec": {
   "display_name": "Python 3",
   "language": "python",
   "name": "python3"
  },
  "language_info": {
   "codemirror_mode": {
    "name": "ipython",
    "version": 3
   },
   "file_extension": ".py",
   "mimetype": "text/x-python",
   "name": "python",
   "nbconvert_exporter": "python",
   "pygments_lexer": "ipython3",
   "version": "3.8.6"
  }
 },
 "nbformat": 4,
 "nbformat_minor": 4
}
