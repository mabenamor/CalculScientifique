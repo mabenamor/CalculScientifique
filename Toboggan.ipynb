{
 "cells": [
  {
   "cell_type": "code",
   "execution_count": 1,
   "metadata": {},
   "outputs": [
    {
     "name": "stdout",
     "output_type": "stream",
     "text": [
      "Populating the interactive namespace from numpy and matplotlib\n"
     ]
    }
   ],
   "source": [
    "%pylab inline"
   ]
  },
  {
   "cell_type": "markdown",
   "metadata": {},
   "source": [
    "# Problème du Toboggan #"
   ]
  },
  {
   "cell_type": "markdown",
   "metadata": {},
   "source": [
    "## Mise en équation"
   ]
  },
  {
   "cell_type": "markdown",
   "metadata": {},
   "source": [
    "On se donne le problème suivant:\n",
    "Calculer le temps mis par une bille pour descendre un toboggan.\n",
    "\n",
    "On considère un toboggan, dont la forme est donnée par une fonction $y$ : $[0,1]\\rightarrow \\mathbb{R}$. On suppose que  $y(0) =0$ et $y (1) =1$, l'axe des ordonnées étant dirigé vers le bas. On lache une bille du haut c'est à dire à partir de $(0,0)$ et on calcule le temps mis pour qu'elle atteigne le point $(1,1)$. C'est à dire tout en bas."
   ]
  },
  {
   "cell_type": "markdown",
   "metadata": {},
   "source": [
    "La bille étant considérée de masse m et le toboggan ayant une forme $y = y(x)$. En négligeant les frottements, on peut considérer que l'énergie mécanique est constante au cours du temps, c'est à dire:\n",
    "\n",
    "$$ E = E_c +E_p $$ où \n",
    "\n",
    "$$\n",
    "E_{c}=\\frac{1}{2}m(\\frac{\\mathrm{d}s}{\\mathrm{d}t})^{2}\n",
    "$$\n",
    "\n",
    "et \n",
    "\n",
    "$$\n",
    "E_{p}=-mgy(x(t))\\ .\n",
    "$$\n",
    "\n",
    "La conservation de l'énergie totale entre les instants $t=0$, initial, et $t=T(y)$ , où la bille arrive au bas du toboggan, nous donne \n",
    "$$\n",
    "\\frac{1}{2}m(\\frac{\\mathrm{d}s}{\\mathrm{d}t})^{2}-mgy=0,\n",
    "$$\n",
    "d'où $s'(t)=\\sqrt{2gy}$. Le temps de descente est alors donné par\n",
    "$$\n",
    "T(y)\\ =\\int_{0}^{T(y)}\\mathrm{d}t=\\int_{0}^{\\ell(y)}\\frac{\\mathrm{d}s}{\\sqrt{2gy}}=\\int_{0}^{1}\\frac{\\sqrt{1+y'(x)^{2}}}{\\sqrt{2gy(x)}}\\mathrm{d}x.\n",
    "$$"
   ]
  },
  {
   "cell_type": "code",
   "execution_count": 2,
   "metadata": {},
   "outputs": [],
   "source": [
    "def y(x):\n",
    "    z = (x ** (0.25)) * (5 + x) ** 2 \n",
    "    return z / 36\n"
   ]
  },
  {
   "cell_type": "code",
   "execution_count": 3,
   "metadata": {},
   "outputs": [],
   "source": [
    "N = 1000\n",
    "xx = linspace(0, 1, N)\n",
    "yy = y(xx)"
   ]
  },
  {
   "cell_type": "code",
   "execution_count": 4,
   "metadata": {
    "scrolled": true
   },
   "outputs": [
    {
     "data": {
      "text/plain": [
       "[<matplotlib.lines.Line2D at 0x1be5396df10>]"
      ]
     },
     "execution_count": 4,
     "metadata": {},
     "output_type": "execute_result"
    },
    {
     "data": {
      "image/png": "[encoded data removed]",
      "text/plain": [
       "<Figure size 432x288 with 1 Axes>"
      ]
     },
     "metadata": {
      "needs_background": "light"
     },
     "output_type": "display_data"
    }
   ],
   "source": [
    "gca().invert_yaxis()\n",
    "plot(xx, yy)"
   ]
  },
  {
   "cell_type": "markdown",
   "metadata": {},
   "source": [
    "On pose $f(x) = \\frac{\\sqrt{1+y'(x)^{2}}}{\\sqrt{2gy(x)}}$"
   ]
  },
  {
   "cell_type": "code",
   "execution_count": 5,
   "metadata": {},
   "outputs": [],
   "source": [
    "def yp(x):\n",
    "    return ((5 + x) ** 2) / (4 * 36 * x ** 0.75) + (x ** 0.25) * (5 + x)  / 18"
   ]
  },
  {
   "cell_type": "code",
   "execution_count": 6,
   "metadata": {},
   "outputs": [],
   "source": [
    "def f(x):\n",
    "    return sqrt((1 + yp(x) ** 2) / (2 * 10 * y(x)))"
   ]
  },
  {
   "cell_type": "markdown",
   "metadata": {},
   "source": [
    "## Calcul approché par la méthode du Rectangle droite"
   ]
  },
  {
   "cell_type": "code",
   "execution_count": 7,
   "metadata": {},
   "outputs": [],
   "source": [
    "def rectdroite(z, n):\n",
    "    x = arange(n)\n",
    "    return 1 / n * sum (z((x + 1) / n))"
   ]
  },
  {
   "cell_type": "code",
   "execution_count": 8,
   "metadata": {},
   "outputs": [],
   "source": [
    "def f_test1(x):\n",
    "    return x ** (- 0.75)"
   ]
  },
  {
   "cell_type": "code",
   "execution_count": 9,
   "metadata": {},
   "outputs": [],
   "source": [
    "err = []\n",
    "Nmax = 10 ** arange(8)\n",
    "for i in Nmax:\n",
    "    err.append(abs(rectdroite(f_test1, i) - 4))"
   ]
  },
  {
   "cell_type": "code",
   "execution_count": 10,
   "metadata": {},
   "outputs": [
    {
     "data": {
      "text/plain": [
       "[<matplotlib.lines.Line2D at 0x1be5eadbd00>]"
      ]
     },
     "execution_count": 10,
     "metadata": {},
     "output_type": "execute_result"
    },
    {
     "data": {
      "image/png": "[encoded data removed]",
      "text/plain": [
       "<Figure size 432x288 with 1 Axes>"
      ]
     },
     "metadata": {
      "needs_background": "light"
     },
     "output_type": "display_data"
    }
   ],
   "source": [
    "loglog(Nmax, err)"
   ]
  },
  {
   "cell_type": "code",
   "execution_count": 11,
   "metadata": {},
   "outputs": [
    {
     "data": {
      "text/plain": [
       "array([-0.24429098,  1.16875179])"
      ]
     },
     "execution_count": 11,
     "metadata": {},
     "output_type": "execute_result"
    }
   ],
   "source": [
    "polyfit(log(Nmax), log(err), 1)"
   ]
  },
  {
   "cell_type": "code",
   "execution_count": 12,
   "metadata": {},
   "outputs": [],
   "source": [
    "def f_test2(x):\n",
    "    return x ** (- 0.25)"
   ]
  },
  {
   "cell_type": "code",
   "execution_count": 13,
   "metadata": {},
   "outputs": [],
   "source": [
    "err = []\n",
    "Nmax = 10 ** arange(8)\n",
    "for i in Nmax:\n",
    "    err.append(abs(rectdroite(f_test2, i) - 4 / 3))"
   ]
  },
  {
   "cell_type": "code",
   "execution_count": 14,
   "metadata": {},
   "outputs": [
    {
     "data": {
      "text/plain": [
       "[<matplotlib.lines.Line2D at 0x1be5eda60a0>]"
      ]
     },
     "execution_count": 14,
     "metadata": {},
     "output_type": "execute_result"
    },
    {
     "data": {
      "image/png": "[encoded data removed]",
      "text/plain": [
       "<Figure size 432x288 with 1 Axes>"
      ]
     },
     "metadata": {
      "needs_background": "light"
     },
     "output_type": "display_data"
    }
   ],
   "source": [
    "loglog(Nmax, err)"
   ]
  },
  {
   "cell_type": "code",
   "execution_count": 15,
   "metadata": {},
   "outputs": [
    {
     "data": {
      "text/plain": [
       "array([-0.70463911, -0.79413246])"
      ]
     },
     "execution_count": 15,
     "metadata": {},
     "output_type": "execute_result"
    }
   ],
   "source": [
    "polyfit(log(Nmax), log(err), 1)"
   ]
  },
  {
   "cell_type": "markdown",
   "metadata": {},
   "source": [
    "## Calcul approché par la méthode du point milieu"
   ]
  },
  {
   "cell_type": "code",
   "execution_count": 16,
   "metadata": {},
   "outputs": [],
   "source": [
    "def ptmilieu(z, n):\n",
    "    x = arange(n)\n",
    "    return 1 / n * sum (z((2 * x + 1) / (2 * n)))"
   ]
  },
  {
   "cell_type": "markdown",
   "metadata": {},
   "source": [
    "Si on suppose que  $f$ s'écrit sous la forme $f(x) =x^{-\\beta}+g(x)$  où $g$ est régulière, alors la méthode du point milieu est d'ordre $1-\\beta$ avec $0 < \\beta < 1$. Et c'est ce qu'on remarque en faisant les approximatins suivantes pour les cas tests simples suivant:"
   ]
  },
  {
   "cell_type": "code",
   "execution_count": 17,
   "metadata": {},
   "outputs": [],
   "source": [
    "err = []\n",
    "Nmax = 10 ** arange(8)\n",
    "for i in Nmax:\n",
    "    err.append(abs(ptmilieu(f_test1, i) - 4))"
   ]
  },
  {
   "cell_type": "code",
   "execution_count": 18,
   "metadata": {},
   "outputs": [
    {
     "data": {
      "text/plain": [
       "[<matplotlib.lines.Line2D at 0x1be5ef68550>]"
      ]
     },
     "execution_count": 18,
     "metadata": {},
     "output_type": "execute_result"
    },
    {
     "data": {
      "image/png": "[encoded data removed]",
      "text/plain": [
       "<Figure size 432x288 with 1 Axes>"
      ]
     },
     "metadata": {
      "needs_background": "light"
     },
     "output_type": "display_data"
    }
   ],
   "source": [
    "loglog(Nmax, err)"
   ]
  },
  {
   "cell_type": "code",
   "execution_count": 19,
   "metadata": {},
   "outputs": [
    {
     "data": {
      "text/plain": [
       "array([-0.24955875,  0.84772675])"
      ]
     },
     "execution_count": 19,
     "metadata": {},
     "output_type": "execute_result"
    }
   ],
   "source": [
    "polyfit(log(Nmax), log(err), 1)"
   ]
  },
  {
   "cell_type": "code",
   "execution_count": 20,
   "metadata": {},
   "outputs": [],
   "source": [
    "err = []\n",
    "Nmax = 10 ** arange(8)\n",
    "for i in Nmax:\n",
    "    err.append(abs(ptmilieu(f_test2, i) - 4 / 3))"
   ]
  },
  {
   "cell_type": "code",
   "execution_count": 21,
   "metadata": {},
   "outputs": [
    {
     "data": {
      "text/plain": [
       "[<matplotlib.lines.Line2D at 0x1be5ecf59a0>]"
      ]
     },
     "execution_count": 21,
     "metadata": {},
     "output_type": "execute_result"
    },
    {
     "data": {
      "image/png": "[encoded data removed]",
      "text/plain": [
       "<Figure size 432x288 with 1 Axes>"
      ]
     },
     "metadata": {
      "needs_background": "light"
     },
     "output_type": "display_data"
    }
   ],
   "source": [
    "loglog(Nmax, err)"
   ]
  },
  {
   "cell_type": "code",
   "execution_count": 22,
   "metadata": {},
   "outputs": [
    {
     "data": {
      "text/plain": [
       "array([-0.74752863, -1.90020028])"
      ]
     },
     "execution_count": 22,
     "metadata": {},
     "output_type": "execute_result"
    }
   ],
   "source": [
    "polyfit(log(Nmax), log(err), 1)"
   ]
  },
  {
   "cell_type": "code",
   "execution_count": 23,
   "metadata": {},
   "outputs": [],
   "source": [
    "def f_test3(x):\n",
    "    return (1 + x ** 2) * x ** (- 0.75)"
   ]
  },
  {
   "cell_type": "code",
   "execution_count": 24,
   "metadata": {},
   "outputs": [],
   "source": [
    "err = []\n",
    "Nmax = 10 ** arange(8)\n",
    "for i in Nmax:\n",
    "    err.append(abs(ptmilieu(f_test3, i) - 40 / 9))"
   ]
  },
  {
   "cell_type": "code",
   "execution_count": 25,
   "metadata": {},
   "outputs": [
    {
     "data": {
      "text/plain": [
       "[<matplotlib.lines.Line2D at 0x1be60285250>]"
      ]
     },
     "execution_count": 25,
     "metadata": {},
     "output_type": "execute_result"
    },
    {
     "data": {
      "image/png": "[encoded data removed]",
      "text/plain": [
       "<Figure size 432x288 with 1 Axes>"
      ]
     },
     "metadata": {
      "needs_background": "light"
     },
     "output_type": "display_data"
    }
   ],
   "source": [
    "loglog(Nmax, err)"
   ]
  },
  {
   "cell_type": "code",
   "execution_count": 26,
   "metadata": {},
   "outputs": [
    {
     "data": {
      "text/plain": [
       "array([-0.24993862,  0.85211038])"
      ]
     },
     "execution_count": 26,
     "metadata": {},
     "output_type": "execute_result"
    }
   ],
   "source": [
    "polyfit(log(Nmax), log(err), 1)"
   ]
  },
  {
   "cell_type": "markdown",
   "metadata": {},
   "source": [
    "### Preuve de l'estimation de l'erreur ###\n",
    "\n",
    "#### Propsition ####\n",
    "Si on suppose que  $f$ s'écrit sous la forme $f(x) =x^{-\\beta}+g(x)$  où $g$ est régulière, alors la méthode du point milieu est d'ordre $1-\\beta$ avec $0 < \\beta < 1$. \n",
    "\n",
    "#### Preuve ####\n",
    "\n",
    "Soit $T  = \\int_0^1 f(x) d x $, alors  $$\\left|T -T_{N}\\right| \\leq \\left|\\int_{0}^{\\frac{1}{N}}f(x)dx-\\frac{1}{N}f(\\frac{1}{2N})\\right|+\\left|\\int_{\\frac{1}{N}}^{1}f(x)dx-\\frac{1}{N}\\sum_{i=1}^{N-1}f(\\frac{2i+1}{2N})\\right|.$$\n",
    "\n",
    "Le premier terme est un $\\mathcal{O}(N^{\\beta-1})$. Par ailleurs, l'estimation de l'erreur d'interpolation sur chaque sous-intervalle $\\left(I_{i}=\\left[\\displaystyle \\frac{i}{N},\\ \\frac{i+1}{N}\\right]\\right)_{(i\\geq 1)}$ montre que le second terme est majoré par\n",
    "$$\n",
    "\\frac{1}{N^{3}}\\sum_{i=1}^{N-1}\\Vert f''\\Vert_{\\infty,I_i}\\leq\\frac{1}{N^{3}}\\sum_{i=1}^{N-1}\\left(\\frac{i}{N}\\right)^{-2-\\beta}+\\frac{1}{N^{2}}\\Vert g''\\Vert_{\\infty,[0,1]}=\\mathcal{O}(N^{\\beta-1})\\ .\n",
    "$$"
   ]
  },
  {
   "cell_type": "markdown",
   "metadata": {},
   "source": [
    "## Méthode de Monte-Carlo ##"
   ]
  },
  {
   "cell_type": "code",
   "execution_count": 27,
   "metadata": {},
   "outputs": [
    {
     "name": "stderr",
     "output_type": "stream",
     "text": [
      "<ipython-input-5-41bdb0e8a6ad>:2: RuntimeWarning: divide by zero encountered in true_divide\n",
      "  return ((5 + x) ** 2) / (4 * 36 * x ** 0.75) + (x ** 0.25) * (5 + x)  / 18\n"
     ]
    },
    {
     "data": {
      "text/plain": [
       "[<matplotlib.lines.Line2D at 0x1be6024f100>]"
      ]
     },
     "execution_count": 27,
     "metadata": {},
     "output_type": "execute_result"
    },
    {
     "data": {
      "image/png": "[encoded data removed]",
      "text/plain": [
       "<Figure size 432x288 with 1 Axes>"
      ]
     },
     "metadata": {
      "needs_background": "light"
     },
     "output_type": "display_data"
    }
   ],
   "source": [
    "plot(xx, f(xx))"
   ]
  },
  {
   "cell_type": "markdown",
   "metadata": {},
   "source": [
    "Si, $f : [0,1] \\to [0,1]$. Donc le princie de la méthode est de tirer aléatoirement deux variables aléatoires $X_1$ et $X_2$ suivant la loi uniforme $\\mathcal{U}([0,1])$ et de définir la vaiable alatoire $X \\hookrightarrow \\mathcal{B}(p)$ où $p$ est la probabilité que $X_2 < f(X_1)$. Ainsi, $\\mathbb{E}(X) = p = \\int_0^1 f(x) dx$."
   ]
  },
  {
   "cell_type": "code",
   "execution_count": 29,
   "metadata": {},
   "outputs": [],
   "source": [
    "def montecarlo(z, n):\n",
    "    x1 = rand(n)\n",
    "    x2 = rand(n)\n",
    "    p = (x2 < z (x1)).astype(float)\n",
    "    return mean(p)"
   ]
  },
  {
   "cell_type": "code",
   "execution_count": 30,
   "metadata": {},
   "outputs": [],
   "source": [
    "seed(0)"
   ]
  },
  {
   "cell_type": "code",
   "execution_count": 31,
   "metadata": {},
   "outputs": [],
   "source": [
    "def f_test4(x):\n",
    "    return 1 / (1 + x ** 2)"
   ]
  },
  {
   "cell_type": "code",
   "execution_count": 35,
   "metadata": {},
   "outputs": [],
   "source": [
    "err = []\n",
    "Nmax = 10 ** arange(9)\n",
    "for i in Nmax:\n",
    "    err.append(abs(montecarlo(f_test4, i) - pi / 4))"
   ]
  },
  {
   "cell_type": "code",
   "execution_count": 36,
   "metadata": {},
   "outputs": [
    {
     "data": {
      "text/plain": [
       "[<matplotlib.lines.Line2D at 0x1be605bcee0>]"
      ]
     },
     "execution_count": 36,
     "metadata": {},
     "output_type": "execute_result"
    },
    {
     "data": {
      "image/png": "[encoded data removed]",
      "text/plain": [
       "<Figure size 432x288 with 1 Axes>"
      ]
     },
     "metadata": {
      "needs_background": "light"
     },
     "output_type": "display_data"
    }
   ],
   "source": [
    "loglog(Nmax, err)"
   ]
  },
  {
   "cell_type": "code",
   "execution_count": 37,
   "metadata": {},
   "outputs": [
    {
     "data": {
      "text/plain": [
       "array([-0.54438747, -1.51922819])"
      ]
     },
     "execution_count": 37,
     "metadata": {},
     "output_type": "execute_result"
    }
   ],
   "source": [
    "polyfit(log(Nmax), log(err), 1)"
   ]
  },
  {
   "cell_type": "markdown",
   "metadata": {},
   "source": [
    "Cette méthode n'est pas adaptée pour les fonctions avec des singularités sur le bord."
   ]
  },
  {
   "cell_type": "markdown",
   "metadata": {},
   "source": [
    "### Méthode de Quasi Monte-Carlo"
   ]
  },
  {
   "cell_type": "markdown",
   "metadata": {},
   "source": [
    "Sous certaines condition on pourra démontrer que la suite $$ \\frac1N \\sum_{k = 1}^N f(x_k)  \\longrightarrow \\int_0^1 f(t) dt $$ où les $x_k$ sont i.i.d. de même loi $\\mathcal{U}[0, 1]$."
   ]
  },
  {
   "cell_type": "code",
   "execution_count": 63,
   "metadata": {},
   "outputs": [],
   "source": [
    "def quasimontecarlo(z, n):\n",
    "    x = rand(n)\n",
    "    for i in range(n):\n",
    "        if x[i] < 1 / n:\n",
    "            x[i] = 1 /n\n",
    "    return mean(z(x))"
   ]
  },
  {
   "cell_type": "code",
   "execution_count": 64,
   "metadata": {},
   "outputs": [],
   "source": [
    "err = []\n",
    "Nmax = 10 ** arange(8)\n",
    "for i in Nmax:\n",
    "    err.append(abs(quasimontecarlo(f_test1, i) - 4))"
   ]
  },
  {
   "cell_type": "code",
   "execution_count": 65,
   "metadata": {},
   "outputs": [
    {
     "data": {
      "text/plain": [
       "[<matplotlib.lines.Line2D at 0x1be608dbee0>]"
      ]
     },
     "execution_count": 65,
     "metadata": {},
     "output_type": "execute_result"
    },
    {
     "data": {
      "image/png": "[encoded data removed]",
      "text/plain": [
       "<Figure size 432x288 with 1 Axes>"
      ]
     },
     "metadata": {
      "needs_background": "light"
     },
     "output_type": "display_data"
    }
   ],
   "source": [
    "loglog(Nmax, err)"
   ]
  },
  {
   "cell_type": "code",
   "execution_count": 66,
   "metadata": {},
   "outputs": [
    {
     "data": {
      "text/plain": [
       "array([-0.26059999,  1.01512814])"
      ]
     },
     "execution_count": 66,
     "metadata": {},
     "output_type": "execute_result"
    }
   ],
   "source": [
    "polyfit(log(Nmax), log(err), 1)"
   ]
  },
  {
   "cell_type": "code",
   "execution_count": 67,
   "metadata": {},
   "outputs": [],
   "source": [
    "err = []\n",
    "Nmax = 10 ** arange(8)\n",
    "for i in Nmax:\n",
    "    err.append(abs(quasimontecarlo(f_test2, i) - 4 / 3))"
   ]
  },
  {
   "cell_type": "code",
   "execution_count": 68,
   "metadata": {},
   "outputs": [
    {
     "data": {
      "text/plain": [
       "[<matplotlib.lines.Line2D at 0x1be61db60d0>]"
      ]
     },
     "execution_count": 68,
     "metadata": {},
     "output_type": "execute_result"
    },
    {
     "data": {
      "image/png": "[encoded data removed]",
      "text/plain": [
       "<Figure size 432x288 with 1 Axes>"
      ]
     },
     "metadata": {
      "needs_background": "light"
     },
     "output_type": "display_data"
    }
   ],
   "source": [
    "loglog(Nmax, err)"
   ]
  },
  {
   "cell_type": "code",
   "execution_count": 69,
   "metadata": {},
   "outputs": [
    {
     "data": {
      "text/plain": [
       "array([-0.52871749, -1.19591468])"
      ]
     },
     "execution_count": 69,
     "metadata": {},
     "output_type": "execute_result"
    }
   ],
   "source": [
    "polyfit(log(Nmax), log(err), 1)"
   ]
  },
  {
   "cell_type": "markdown",
   "metadata": {},
   "source": [
    "On remarque que la convergence est comparable à celle de la méthode de Monte Carlo."
   ]
  },
  {
   "cell_type": "markdown",
   "metadata": {},
   "source": [
    "## Références\n",
    "Ce TP est largement du texte de Grégory Vial:\n",
    "http://perso.ec-lyon.fr/vial.gregory/Docs/Files/TextesAgreg/TpsDescente.pdf"
   ]
  }
 ],
 "metadata": {
  "kernelspec": {
   "display_name": "Python 3",
   "language": "python",
   "name": "python3"
  },
  "language_info": {
   "codemirror_mode": {
    "name": "ipython",
    "version": 3
   },
   "file_extension": ".py",
   "mimetype": "text/x-python",
   "name": "python",
   "nbconvert_exporter": "python",
   "pygments_lexer": "ipython3",
   "version": "3.8.6"
  }
 },
 "nbformat": 4,
 "nbformat_minor": 4
}
